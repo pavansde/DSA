{
  "nbformat": 4,
  "nbformat_minor": 0,
  "metadata": {
    "colab": {
      "provenance": [],
      "authorship_tag": "ABX9TyPheQrdXkusAriMaMsKPCir"
    },
    "kernelspec": {
      "name": "python3",
      "display_name": "Python 3"
    },
    "language_info": {
      "name": "python"
    }
  },
  "cells": [
    {
      "cell_type": "markdown",
      "source": [
        "#1. Contains Duplicate - Leetcode 217\n",
        "Time Complexity & Space Complexity - O(n)"
      ],
      "metadata": {
        "id": "m0H4oo6BbfER"
      }
    },
    {
      "cell_type": "code",
      "execution_count": null,
      "metadata": {
        "id": "EL7WI5wxba2Y"
      },
      "outputs": [],
      "source": [
        "from typing import List\n",
        "\n",
        "def containsDuplicate(nums: List[int]) -> bool:\n",
        "  hashset = set()\n",
        "  for i in nums:\n",
        "    if i in hashset:\n",
        "      return True\n",
        "    hashset.add(i)\n",
        "  return False"
      ]
    },
    {
      "cell_type": "code",
      "source": [
        "nums = [1,2,3,4]\n",
        "containsDuplicate(nums)"
      ],
      "metadata": {
        "colab": {
          "base_uri": "https://localhost:8080/"
        },
        "id": "--THJar9b-Dd",
        "outputId": "1a7b6ecb-cc67-4de4-fe2a-1c07409bb2c3"
      },
      "execution_count": null,
      "outputs": [
        {
          "output_type": "execute_result",
          "data": {
            "text/plain": [
              "False"
            ]
          },
          "metadata": {},
          "execution_count": 27
        }
      ]
    },
    {
      "cell_type": "markdown",
      "source": [
        "#2. Valid Anagram - Leetcode 242\n",
        "\n",
        "Time Complexity & Space Complexity - O(s+t)"
      ],
      "metadata": {
        "id": "qsxThcUeGpS2"
      }
    },
    {
      "cell_type": "code",
      "source": [
        "def isAnagram(s: str, t: str) -> bool:\n",
        "  # return Counter(s) == Counter(t)\n",
        "  if len(s) != len(t):\n",
        "    return False\n",
        "  countS, countT = {}, {}\n",
        "  for i in range(len(s)):\n",
        "    countS[s[i]] = 1 + countS.get(s[i],0)\n",
        "    countT[t[i]] = 1 + countT.get(t[i],0)\n",
        "  for c in countS:\n",
        "    if(countS[c] != countT.get(c,0)):\n",
        "      return False\n",
        "  return True"
      ],
      "metadata": {
        "id": "LPBuYIEHc9uO"
      },
      "execution_count": null,
      "outputs": []
    },
    {
      "cell_type": "code",
      "source": [
        "s = \"car\"\n",
        "t = \"car\"\n",
        "\n",
        "isAnagram(s,t)"
      ],
      "metadata": {
        "colab": {
          "base_uri": "https://localhost:8080/"
        },
        "id": "vEc-dYe-KtYG",
        "outputId": "e0b917c5-551c-4511-db2b-d2ea8fe612c4"
      },
      "execution_count": null,
      "outputs": [
        {
          "output_type": "execute_result",
          "data": {
            "text/plain": [
              "True"
            ]
          },
          "metadata": {},
          "execution_count": 10
        }
      ]
    },
    {
      "cell_type": "markdown",
      "source": [
        "#3. Two Sum - Leetcode 1\n",
        "Time Complexity & Space Complexity - O(n)"
      ],
      "metadata": {
        "id": "1Ox9xX8vMI6E"
      }
    },
    {
      "cell_type": "code",
      "source": [
        "from typing import List\n",
        "def twoSum(nums: List[int], target: int) -> List[int]:\n",
        "  prevMap = {}\n",
        "  for i, n in enumerate(nums):\n",
        "    diff = target - n\n",
        "    if diff in prevMap:\n",
        "      return (prevMap[diff],i)\n",
        "    prevMap[n] = i\n",
        "  return\n"
      ],
      "metadata": {
        "id": "MfnAQUPgLKgH"
      },
      "execution_count": null,
      "outputs": []
    },
    {
      "cell_type": "code",
      "source": [
        "target = 9\n",
        "nums = [2,5,7,3]\n",
        "\n",
        "twoSum(nums, target)"
      ],
      "metadata": {
        "colab": {
          "base_uri": "https://localhost:8080/"
        },
        "id": "yLYYmihfPqzw",
        "outputId": "0418583c-1183-4c7f-a86d-6c6ea04ff5e8"
      },
      "execution_count": null,
      "outputs": [
        {
          "output_type": "execute_result",
          "data": {
            "text/plain": [
              "(0, 2)"
            ]
          },
          "metadata": {},
          "execution_count": 21
        }
      ]
    },
    {
      "cell_type": "markdown",
      "source": [
        "#4. Group Anagrams - Leetcode 49\n",
        "Time Complexity & Space Complexity - O(m * n)"
      ],
      "metadata": {
        "id": "iqfHa5lTQv0a"
      }
    },
    {
      "cell_type": "code",
      "source": [
        "from typing import List\n",
        "from collections import defaultdict\n",
        "def groupAnagrams(strs: List[str]) -> List[List[str]]:\n",
        "  res = defaultdict(list)\n",
        "  for s in strs:\n",
        "    count = [0] * 26\n",
        "    for c in s:\n",
        "      count[ord(c) - ord(\"a\")] +=1\n",
        "    res[tuple(count)].append(s)\n",
        "  return list(res.values())"
      ],
      "metadata": {
        "id": "p4qhEKzzQC2P"
      },
      "execution_count": null,
      "outputs": []
    },
    {
      "cell_type": "code",
      "source": [
        "strs = [\"eat\", \"tea\", \"tan\", \"ate\", \"nat\", \"bat\"]\n",
        "groupAnagrams(strs)"
      ],
      "metadata": {
        "colab": {
          "base_uri": "https://localhost:8080/"
        },
        "id": "-ed1K0riavpP",
        "outputId": "d5419d10-6ce3-4d4f-a8a2-fff4e49f85dc"
      },
      "execution_count": null,
      "outputs": [
        {
          "output_type": "execute_result",
          "data": {
            "text/plain": [
              "[['eat', 'tea', 'ate'], ['tan', 'nat'], ['bat']]"
            ]
          },
          "metadata": {},
          "execution_count": 27
        }
      ]
    },
    {
      "cell_type": "markdown",
      "source": [
        "#5. Top K Frequent Elements - Bucket Sort - Leetcode 347\n",
        "Time Complexity & Space Complexity - O(n)"
      ],
      "metadata": {
        "id": "N8j284VzbfPk"
      }
    },
    {
      "cell_type": "code",
      "source": [
        "from typing import List\n",
        "def topKFrequent(nums: List[int], k: int) -> List[int]:\n",
        "  count = {}\n",
        "  freq = [[] for i in range(len(nums)+1)]\n",
        "\n",
        "  for num in nums:\n",
        "    count[num] = 1 + count.get(num,0)\n",
        "\n",
        "  for key, value in count.items():\n",
        "    freq[value].append(key)\n",
        "\n",
        "  res = []\n",
        "\n",
        "  for f in range(len(freq)-1,0,-1):\n",
        "    for s in freq[f]:\n",
        "      res.append(s)\n",
        "      if len(res) == k:\n",
        "        return res"
      ],
      "metadata": {
        "id": "stQeHKdGa3Ss"
      },
      "execution_count": 53,
      "outputs": []
    },
    {
      "cell_type": "code",
      "source": [
        "nums = [1,2,3,4,5,1,2]\n",
        "k = 1\n",
        "topKFrequent(nums,k)"
      ],
      "metadata": {
        "colab": {
          "base_uri": "https://localhost:8080/"
        },
        "id": "oOzu1OkaiSso",
        "outputId": "7de39c4f-4345-4277-afc0-e9e7d414a63c"
      },
      "execution_count": 54,
      "outputs": [
        {
          "output_type": "execute_result",
          "data": {
            "text/plain": [
              "[1]"
            ]
          },
          "metadata": {},
          "execution_count": 54
        }
      ]
    },
    {
      "cell_type": "code",
      "source": [],
      "metadata": {
        "id": "f6G6facikiJl"
      },
      "execution_count": null,
      "outputs": []
    }
  ]
}