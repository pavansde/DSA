{
  "nbformat": 4,
  "nbformat_minor": 0,
  "metadata": {
    "colab": {
      "provenance": [],
      "authorship_tag": "ABX9TyP8ScpUEmjwR9aMEBDmgeoF"
    },
    "kernelspec": {
      "name": "python3",
      "display_name": "Python 3"
    },
    "language_info": {
      "name": "python"
    }
  },
  "cells": [
    {
      "cell_type": "code",
      "source": [
        "from typing import List\n",
        "from collections import defaultdict"
      ],
      "metadata": {
        "id": "e8sruFdlcwU4"
      },
      "execution_count": 3,
      "outputs": []
    },
    {
      "cell_type": "markdown",
      "source": [
        "#1. Contains Duplicate - Leetcode 217\n",
        "Time Complexity & Space Complexity - O(n)"
      ],
      "metadata": {
        "id": "m0H4oo6BbfER"
      }
    },
    {
      "cell_type": "code",
      "execution_count": null,
      "metadata": {
        "id": "EL7WI5wxba2Y"
      },
      "outputs": [],
      "source": [
        "def containsDuplicate(nums: List[int]) -> bool:\n",
        "  hashset = set()\n",
        "  for i in nums:\n",
        "    if i in hashset:\n",
        "      return True\n",
        "    hashset.add(i)\n",
        "  return False"
      ]
    },
    {
      "cell_type": "code",
      "source": [
        "nums = [1,2,3,4]\n",
        "containsDuplicate(nums)"
      ],
      "metadata": {
        "colab": {
          "base_uri": "https://localhost:8080/"
        },
        "id": "--THJar9b-Dd",
        "outputId": "a24e62b4-81b3-4027-eb4d-44936f9f8375"
      },
      "execution_count": null,
      "outputs": [
        {
          "output_type": "execute_result",
          "data": {
            "text/plain": [
              "False"
            ]
          },
          "metadata": {},
          "execution_count": 6
        }
      ]
    },
    {
      "cell_type": "markdown",
      "source": [
        "#2. Valid Anagram - Leetcode 242\n",
        "\n",
        "Time Complexity & Space Complexity - O(s+t)"
      ],
      "metadata": {
        "id": "qsxThcUeGpS2"
      }
    },
    {
      "cell_type": "code",
      "source": [
        "def isAnagram(s: str, t: str) -> bool:\n",
        "  # return Counter(s) == Counter(t)\n",
        "  if len(s) != len(t):\n",
        "    return False\n",
        "  countS, countT = {}, {}\n",
        "  for i in range(len(s)):\n",
        "    countS[s[i]] = 1 + countS.get(s[i],0)\n",
        "    countT[t[i]] = 1 + countT.get(t[i],0)\n",
        "  for c in countS:\n",
        "    if(countS[c] != countT.get(c,0)):\n",
        "      return False\n",
        "  return True"
      ],
      "metadata": {
        "id": "LPBuYIEHc9uO"
      },
      "execution_count": null,
      "outputs": []
    },
    {
      "cell_type": "code",
      "source": [
        "s = \"car\"\n",
        "t = \"arc\"\n",
        "\n",
        "isAnagram(s,t)"
      ],
      "metadata": {
        "colab": {
          "base_uri": "https://localhost:8080/"
        },
        "id": "vEc-dYe-KtYG",
        "outputId": "eda874eb-1ea8-4f17-8062-45557c3691dd"
      },
      "execution_count": null,
      "outputs": [
        {
          "output_type": "execute_result",
          "data": {
            "text/plain": [
              "True"
            ]
          },
          "metadata": {},
          "execution_count": 37
        }
      ]
    },
    {
      "cell_type": "markdown",
      "source": [
        "#3. Two Sum - Leetcode 1\n",
        "Time Complexity & Space Complexity - O(n)"
      ],
      "metadata": {
        "id": "1Ox9xX8vMI6E"
      }
    },
    {
      "cell_type": "code",
      "source": [
        "def twoSum(nums: List[int], target: int) -> List[int]:\n",
        "  prevMap = {}\n",
        "  for i, n in enumerate(nums):\n",
        "    diff = target - n\n",
        "    if diff in prevMap:\n",
        "      return (prevMap[diff],i)\n",
        "    prevMap[n] = i\n",
        "  return\n"
      ],
      "metadata": {
        "id": "MfnAQUPgLKgH"
      },
      "execution_count": null,
      "outputs": []
    },
    {
      "cell_type": "code",
      "source": [
        "target = 9\n",
        "nums = [2,5,7,3]\n",
        "\n",
        "twoSum(nums, target)"
      ],
      "metadata": {
        "colab": {
          "base_uri": "https://localhost:8080/"
        },
        "id": "yLYYmihfPqzw",
        "outputId": "a1716dde-85e1-40bf-cc34-930e5f2624a3"
      },
      "execution_count": null,
      "outputs": [
        {
          "output_type": "execute_result",
          "data": {
            "text/plain": [
              "(0, 2)"
            ]
          },
          "metadata": {},
          "execution_count": 10
        }
      ]
    },
    {
      "cell_type": "markdown",
      "source": [
        "#4. Group Anagrams - Leetcode 49\n",
        "Time Complexity & Space Complexity - O(m * n)"
      ],
      "metadata": {
        "id": "iqfHa5lTQv0a"
      }
    },
    {
      "cell_type": "code",
      "source": [
        "def groupAnagrams(strs: List[str]) -> List[List[str]]:\n",
        "  res = defaultdict(list)\n",
        "  for s in strs:\n",
        "    count = [0] * 26\n",
        "    for c in s:\n",
        "      count[ord(c) - ord(\"a\")] +=1\n",
        "    res[tuple(count)].append(s)\n",
        "  return list(res.values())"
      ],
      "metadata": {
        "id": "p4qhEKzzQC2P"
      },
      "execution_count": null,
      "outputs": []
    },
    {
      "cell_type": "code",
      "source": [
        "strs = [\"eat\", \"tea\", \"tan\", \"ate\", \"nat\", \"bat\"]\n",
        "groupAnagrams(strs)"
      ],
      "metadata": {
        "colab": {
          "base_uri": "https://localhost:8080/"
        },
        "id": "-ed1K0riavpP",
        "outputId": "75139879-8929-4458-a39f-9d5113d1ad54"
      },
      "execution_count": null,
      "outputs": [
        {
          "output_type": "execute_result",
          "data": {
            "text/plain": [
              "[['eat', 'tea', 'ate'], ['tan', 'nat'], ['bat']]"
            ]
          },
          "metadata": {},
          "execution_count": 12
        }
      ]
    },
    {
      "cell_type": "markdown",
      "source": [
        "#5. Top K Frequent Elements - Bucket Sort - Leetcode 347\n",
        "Time Complexity & Space Complexity - O(n)"
      ],
      "metadata": {
        "id": "N8j284VzbfPk"
      }
    },
    {
      "cell_type": "code",
      "source": [
        "def topKFrequent(nums: List[int], k: int) -> List[int]:\n",
        "  count = {}\n",
        "  freq = [[] for i in range(len(nums)+1)]\n",
        "\n",
        "  for num in nums:\n",
        "    count[num] = 1 + count.get(num,0)\n",
        "\n",
        "  for key, value in count.items():\n",
        "    freq[value].append(key)\n",
        "\n",
        "  res = []\n",
        "\n",
        "  for f in range(len(freq)-1,0,-1):\n",
        "    for s in freq[f]:\n",
        "      res.append(s)\n",
        "      if len(res) == k:\n",
        "        return res"
      ],
      "metadata": {
        "id": "stQeHKdGa3Ss"
      },
      "execution_count": null,
      "outputs": []
    },
    {
      "cell_type": "code",
      "source": [
        "nums = [1,2,3,4,5,1,2]\n",
        "k = 1\n",
        "topKFrequent(nums,k)"
      ],
      "metadata": {
        "colab": {
          "base_uri": "https://localhost:8080/"
        },
        "id": "oOzu1OkaiSso",
        "outputId": "ece8a9ea-8eff-4b86-9760-05d6bae3a0c1"
      },
      "execution_count": null,
      "outputs": [
        {
          "output_type": "execute_result",
          "data": {
            "text/plain": [
              "[1]"
            ]
          },
          "metadata": {},
          "execution_count": 14
        }
      ]
    },
    {
      "cell_type": "markdown",
      "source": [
        "#6. Product of Array Except Self - Leetcode 238\n",
        "Time Complexity & Space Complexity - O(n) & O(1)"
      ],
      "metadata": {
        "id": "lcaRlipbcCT1"
      }
    },
    {
      "cell_type": "code",
      "source": [
        "def productExceptSelf(nums: List[int]) -> List[int]:\n",
        "  res = [1] * len(nums)\n",
        "  prefix = 1\n",
        "  for i in range(len(nums)):\n",
        "    res[i] = prefix\n",
        "    prefix *= nums[i]\n",
        "  postfix = 1\n",
        "  for i in range(len(nums)-1,-1,-1):\n",
        "    res[i] *= postfix\n",
        "    postfix *= nums[i]\n",
        "  return res\n"
      ],
      "metadata": {
        "id": "f6G6facikiJl"
      },
      "execution_count": null,
      "outputs": []
    },
    {
      "cell_type": "code",
      "source": [
        "nums = [1,2,3,4]\n",
        "productExceptSelf(nums)"
      ],
      "metadata": {
        "colab": {
          "base_uri": "https://localhost:8080/"
        },
        "id": "uDjAZsqtcTDp",
        "outputId": "e49e20a9-2197-49c3-9cbd-c03c5236aa50"
      },
      "execution_count": null,
      "outputs": [
        {
          "output_type": "execute_result",
          "data": {
            "text/plain": [
              "[24, 12, 8, 6]"
            ]
          },
          "metadata": {},
          "execution_count": 19
        }
      ]
    },
    {
      "cell_type": "markdown",
      "source": [
        "#7. Valid Sudoku - Leetcode 36\n",
        "Time Complexity & Space Complexity - O(1)"
      ],
      "metadata": {
        "id": "kufkzr05dZAM"
      }
    },
    {
      "cell_type": "code",
      "source": [
        "def isValidSudoku(board: List[List[str]]) -> bool:\n",
        "  rows = defaultdict(set)\n",
        "  cols = defaultdict(set)\n",
        "  squares = defaultdict(set)\n",
        "\n",
        "  for r in range(9):\n",
        "    for c in range(9):\n",
        "      if board[r][c] == '.':\n",
        "        continue\n",
        "      if(board[r][c] in rows[r] or\n",
        "         board[r][c] in cols[c] or\n",
        "         board[r][c] in squares[r//3,c//3]):\n",
        "        return False\n",
        "      rows[r].add(board[r][c])\n",
        "      cols[c].add(board[r][c])\n",
        "      squares[r//3,c//3].add(board[r][c])\n",
        "  return True"
      ],
      "metadata": {
        "id": "V-pZrzAgdEeN"
      },
      "execution_count": null,
      "outputs": []
    },
    {
      "cell_type": "code",
      "source": [
        "board = [[\"5\",\"3\",\".\",\".\",\"7\",\".\",\".\",\".\",\".\"],\n",
        "         [\"6\",\".\",\".\",\"1\",\"9\",\"5\",\".\",\".\",\".\"],\n",
        "         [\".\",\"9\",\"8\",\".\",\".\",\".\",\".\",\"6\",\".\"],\n",
        "         [\"8\",\".\",\".\",\".\",\"6\",\".\",\".\",\".\",\"3\"],\n",
        "         [\"4\",\".\",\".\",\"8\",\".\",\"3\",\".\",\".\",\"1\"],\n",
        "         [\"7\",\".\",\".\",\".\",\"2\",\".\",\".\",\".\",\"6\"],\n",
        "         [\".\",\"6\",\".\",\".\",\".\",\".\",\"2\",\"8\",\".\"],\n",
        "         [\".\",\".\",\".\",\"4\",\"1\",\"9\",\".\",\".\",\"5\"],\n",
        "         [\".\",\".\",\".\",\".\",\"8\",\".\",\".\",\"7\",\"9\"]]\n",
        "\n",
        "isValidSudoku(board)"
      ],
      "metadata": {
        "colab": {
          "base_uri": "https://localhost:8080/"
        },
        "id": "hrv3zsr4oVby",
        "outputId": "6443aa12-bbdb-4c0f-ab94-2caea388c9d1"
      },
      "execution_count": null,
      "outputs": [
        {
          "output_type": "execute_result",
          "data": {
            "text/plain": [
              "True"
            ]
          },
          "metadata": {},
          "execution_count": 22
        }
      ]
    },
    {
      "cell_type": "markdown",
      "source": [
        "#8. Encode And Decode Strings - Leetcode 271\n",
        "Time Complexity & Space Complexity -"
      ],
      "metadata": {
        "id": "Q36bUt6Nc3d1"
      }
    },
    {
      "cell_type": "code",
      "source": [
        "def encode(strs):\n",
        "  res = \"\"\n",
        "  for s in strs:\n",
        "    res += str(len(s)) +\"#\" + s\n",
        "  return res\n",
        "\n",
        "def decode(str):\n",
        "  res, i = [], 0\n",
        "  while i < len(str):\n",
        "    j = i\n",
        "    while str[j] != '#':\n",
        "      j += 1\n",
        "    length = int(str[i:j])\n",
        "    res.append(str[j+1 : j+1+length])\n",
        "    i = j+1+length\n",
        "  return res"
      ],
      "metadata": {
        "id": "IgUCHaf0c9cl"
      },
      "execution_count": null,
      "outputs": []
    },
    {
      "cell_type": "code",
      "source": [
        "strs = [\"Hello\", \"Hie\"]\n",
        "res = encode(strs)\n",
        "print(res)\n",
        "decode(res)"
      ],
      "metadata": {
        "colab": {
          "base_uri": "https://localhost:8080/"
        },
        "id": "S2bnrDnoftZc",
        "outputId": "cc5c6929-7fb1-4c20-aff8-a9b0b8b5af40"
      },
      "execution_count": null,
      "outputs": [
        {
          "output_type": "stream",
          "name": "stdout",
          "text": [
            "5#Hello3#Hie\n"
          ]
        },
        {
          "output_type": "execute_result",
          "data": {
            "text/plain": [
              "['Hello', 'Hie']"
            ]
          },
          "metadata": {},
          "execution_count": 39
        }
      ]
    },
    {
      "cell_type": "markdown",
      "source": [
        "#9. LONGEST CONSECUTIVE SEQUENCE - Leetcode 128\n",
        "Time Complexity & Space Complexity - O(n)"
      ],
      "metadata": {
        "id": "oefzBZZRx7Qk"
      }
    },
    {
      "cell_type": "code",
      "source": [
        "def longestConsecutive(nums: List[int]) -> int:\n",
        "        numSet = set(nums)\n",
        "        longest = 0\n",
        "\n",
        "        for n in nums:\n",
        "            if(n-1) not in numSet:\n",
        "                length = 0\n",
        "                while (n+length) in numSet:\n",
        "                    length += 1\n",
        "                longest = max(longest,length)\n",
        "        return longest"
      ],
      "metadata": {
        "id": "mdnuxkGcx9XN"
      },
      "execution_count": null,
      "outputs": []
    },
    {
      "cell_type": "code",
      "source": [
        "nums = [1,101,20,2,3,45,4]\n",
        "longestConsecutive(nums)"
      ],
      "metadata": {
        "colab": {
          "base_uri": "https://localhost:8080/"
        },
        "id": "6ov1n0jOyQB3",
        "outputId": "061c83cd-8e51-4f39-8c9c-73f7ac57c39d"
      },
      "execution_count": null,
      "outputs": [
        {
          "output_type": "execute_result",
          "data": {
            "text/plain": [
              "4"
            ]
          },
          "metadata": {},
          "execution_count": 53
        }
      ]
    },
    {
      "cell_type": "markdown",
      "source": [
        "#10. Valid Palindrome - Leetcode 125\n",
        "Time Complexity & Space Complexity - O(n)"
      ],
      "metadata": {
        "id": "BCgKFLXwwiVY"
      }
    },
    {
      "cell_type": "code",
      "source": [
        "def isPalindrome(s: str) -> bool:\n",
        "  newStr = \"\"\n",
        "\n",
        "  for c in s:\n",
        "    if c.isalnum():\n",
        "      newStr += c.lower()\n",
        "  return newStr == newStr[::-1]\n"
      ],
      "metadata": {
        "id": "sTSC9RgChALT"
      },
      "execution_count": null,
      "outputs": []
    },
    {
      "cell_type": "code",
      "source": [
        "str = \"baab\"\n",
        "isPalindrome(str)"
      ],
      "metadata": {
        "colab": {
          "base_uri": "https://localhost:8080/"
        },
        "id": "p8b44AQKxCno",
        "outputId": "60679009-b9b7-443a-ca01-3841954db115"
      },
      "execution_count": null,
      "outputs": [
        {
          "output_type": "execute_result",
          "data": {
            "text/plain": [
              "True"
            ]
          },
          "metadata": {},
          "execution_count": 43
        }
      ]
    },
    {
      "cell_type": "markdown",
      "source": [
        "Time Complexity - O(n), Space Complexity - O(1)"
      ],
      "metadata": {
        "id": "Ph5GcwajxJEf"
      }
    },
    {
      "cell_type": "code",
      "source": [
        "def alphaNum(c):\n",
        "  return (\n",
        "      ord('A') <= ord(c) <= ord('Z') or\n",
        "      ord('a') <= ord(c) <= ord('z') or\n",
        "      ord('0') <= ord(c) <= ord('9')\n",
        "  )\n",
        "\n",
        "def isPalindrome2(s):\n",
        "  l, r = 0, len(s)-1\n",
        "\n",
        "  while l<r:\n",
        "    while l<r and not alphaNum(s[l]):\n",
        "      l +=1\n",
        "    while r>l and not alphaNum(s[r]):\n",
        "      r -=1\n",
        "    if s[l].lower() != s[r].lower():\n",
        "      return False\n",
        "    l, r = l+1, r-1\n",
        "  return True"
      ],
      "metadata": {
        "id": "K7H5dMFdxGC2"
      },
      "execution_count": null,
      "outputs": []
    },
    {
      "cell_type": "code",
      "source": [
        "str = \"baab\"\n",
        "isPalindrome2(str)"
      ],
      "metadata": {
        "colab": {
          "base_uri": "https://localhost:8080/"
        },
        "id": "-dEJIBMUxc_t",
        "outputId": "92fce7fc-fa78-4cc8-8951-81e66d677e5e"
      },
      "execution_count": null,
      "outputs": [
        {
          "output_type": "execute_result",
          "data": {
            "text/plain": [
              "True"
            ]
          },
          "metadata": {},
          "execution_count": 49
        }
      ]
    },
    {
      "cell_type": "markdown",
      "source": [
        "#11. TWO SUM II - Leetcode 167\n",
        "Time Complexity - O(n), Space Complexity - O(1)"
      ],
      "metadata": {
        "id": "Zjbd9CKxvrmq"
      }
    },
    {
      "cell_type": "code",
      "source": [
        "def twoSum(numbers: List[int], target: int) -> List[int]:\n",
        "  l, r = 0, len(numbers)-1\n",
        "  while l<r:\n",
        "    currSum = numbers[l] + numbers[r]\n",
        "    if currSum < target:\n",
        "      l+=1\n",
        "    elif currSum > target:\n",
        "      r-=1\n",
        "    else:\n",
        "      return [l+1, r+1]"
      ],
      "metadata": {
        "id": "vT-5PRajx1tU"
      },
      "execution_count": 13,
      "outputs": []
    },
    {
      "cell_type": "code",
      "source": [
        "numbers = [2,7,11,15]\n",
        "target = 18\n",
        "twoSum(numbers,target)"
      ],
      "metadata": {
        "colab": {
          "base_uri": "https://localhost:8080/"
        },
        "id": "N80HC3R0zkxm",
        "outputId": "14324d86-96b5-4f02-e3b6-c491d142d6ed"
      },
      "execution_count": 16,
      "outputs": [
        {
          "output_type": "execute_result",
          "data": {
            "text/plain": [
              "[2, 3]"
            ]
          },
          "metadata": {},
          "execution_count": 16
        }
      ]
    },
    {
      "cell_type": "markdown",
      "source": [
        "#12. 3Sum - Leetcode 15\n",
        "Time Complexity - O(n^2), Space Complexity - O(n)"
      ],
      "metadata": {
        "id": "Sz9LRYUB0cjp"
      }
    },
    {
      "cell_type": "code",
      "source": [
        "def threeSum(nums: List[int]) -> List[List[int]]:\n",
        "  res = []\n",
        "  nums.sort()\n",
        "\n",
        "  for i, a in enumerate(nums):\n",
        "    if i > 0 and a == nums[i-1]:\n",
        "      continue\n",
        "\n",
        "    l, r = i+1, len(nums)-1\n",
        "    while l<r:\n",
        "      threeSum = a + nums[l] + nums[r]\n",
        "      if threeSum > 0:\n",
        "        r-=1\n",
        "      elif threeSum < 0:\n",
        "        l+=1\n",
        "      else:\n",
        "        res.append([a, nums[l], nums[r]])\n",
        "        l+=1\n",
        "        while l<r and nums[l] == nums[l-1]:\n",
        "          l+=1\n",
        "  return res"
      ],
      "metadata": {
        "id": "97ozV3SLz81P"
      },
      "execution_count": 21,
      "outputs": []
    },
    {
      "cell_type": "code",
      "source": [
        "nums = [-1,0,1,2,-1,-4]\n",
        "threeSum(nums)"
      ],
      "metadata": {
        "colab": {
          "base_uri": "https://localhost:8080/"
        },
        "id": "eMMSrNSD8tD3",
        "outputId": "1e6fc8c7-bbcb-43d4-961f-2f5d402c3f56"
      },
      "execution_count": 22,
      "outputs": [
        {
          "output_type": "execute_result",
          "data": {
            "text/plain": [
              "[[-1, -1, 2], [-1, 0, 1]]"
            ]
          },
          "metadata": {},
          "execution_count": 22
        }
      ]
    },
    {
      "cell_type": "markdown",
      "source": [
        "#13. Container with Most Water - Leetcode 11\n",
        "Time Complexity - O(n), Space Complexity - O(1)"
      ],
      "metadata": {
        "id": "Gno7LyBN-D9p"
      }
    },
    {
      "cell_type": "code",
      "source": [
        "def maxArea(height: List[int]) -> int:\n",
        "        l, r = 0, len(height)-1\n",
        "        res = 0\n",
        "        while l<r:\n",
        "            area = (r-l) * min(height[l], height[r])\n",
        "            res = max(res, area)\n",
        "\n",
        "            if height[l] < height[r]:\n",
        "                l += 1\n",
        "            else:\n",
        "                r -= 1\n",
        "        return res"
      ],
      "metadata": {
        "id": "P2VYczCC8xlL"
      },
      "execution_count": 25,
      "outputs": []
    },
    {
      "cell_type": "code",
      "source": [
        "height = [1,8,6,2,5,4,8,3,7]\n",
        "maxArea(height)"
      ],
      "metadata": {
        "colab": {
          "base_uri": "https://localhost:8080/"
        },
        "id": "OUfPw85pA7ti",
        "outputId": "d87c7812-6d57-4c85-e724-3544d8c01f97"
      },
      "execution_count": 26,
      "outputs": [
        {
          "output_type": "execute_result",
          "data": {
            "text/plain": [
              "49"
            ]
          },
          "metadata": {},
          "execution_count": 26
        }
      ]
    },
    {
      "cell_type": "markdown",
      "source": [
        "#14. Trapping Rain Water - Leetcode 42\n",
        "Time Complexity - O(n), Space Complexity - O(1)"
      ],
      "metadata": {
        "id": "AuqmqdBlBnPK"
      }
    },
    {
      "cell_type": "code",
      "source": [
        "def trap(height: List[int]) -> int:\n",
        "        l, r = 0, len(height)-1\n",
        "        leftMax, rightMax = height[l], height[r]\n",
        "        res = 0\n",
        "\n",
        "        while l<r:\n",
        "            if leftMax < rightMax:\n",
        "                l+=1\n",
        "                leftMax = max(leftMax, height[l])\n",
        "                res += leftMax -  height[l]\n",
        "            else:\n",
        "                r-=1\n",
        "                rightMax = max(rightMax, height[r])\n",
        "                res += rightMax - height[r]\n",
        "        return res"
      ],
      "metadata": {
        "id": "uE1mJy_4BBvF"
      },
      "execution_count": 29,
      "outputs": []
    },
    {
      "cell_type": "code",
      "source": [
        "height = [0,1,0,2,1,0,1,3,2,1,2,1]\n",
        "trap(height)"
      ],
      "metadata": {
        "colab": {
          "base_uri": "https://localhost:8080/"
        },
        "id": "cn80chW7HeDP",
        "outputId": "ab2a4bfe-11cb-4859-b909-b82913046540"
      },
      "execution_count": 30,
      "outputs": [
        {
          "output_type": "execute_result",
          "data": {
            "text/plain": [
              "6"
            ]
          },
          "metadata": {},
          "execution_count": 30
        }
      ]
    },
    {
      "cell_type": "markdown",
      "source": [
        "#15. Sliding Window: Best Time to Buy and Sell Stock - Leetcode 121\n",
        "Time Complexity - O(n), Space Complexity - O(1)"
      ],
      "metadata": {
        "id": "e_4kAY4oITk7"
      }
    },
    {
      "cell_type": "code",
      "source": [
        "def maxProfit(prices: List[int]) -> int:\n",
        "  l, r = 0, 1\n",
        "  maxP = 0\n",
        "\n",
        "  while r < len(prices):\n",
        "        if prices[l] < prices[r]:\n",
        "          profit = prices[r] - prices[l]\n",
        "          maxP = max(maxP, profit)\n",
        "        else:\n",
        "          l=r\n",
        "        r+=1\n",
        "  return maxP"
      ],
      "metadata": {
        "id": "2m_Ok39gHh8i"
      },
      "execution_count": 33,
      "outputs": []
    },
    {
      "cell_type": "code",
      "source": [
        "prices = [7,1,5,3,6,4]\n",
        "maxProfit(prices)"
      ],
      "metadata": {
        "colab": {
          "base_uri": "https://localhost:8080/"
        },
        "id": "AYyJ09FVIy_y",
        "outputId": "c423aa2b-f6af-44a7-d58c-d4bb02413346"
      },
      "execution_count": 34,
      "outputs": [
        {
          "output_type": "execute_result",
          "data": {
            "text/plain": [
              "5"
            ]
          },
          "metadata": {},
          "execution_count": 34
        }
      ]
    },
    {
      "cell_type": "code",
      "source": [],
      "metadata": {
        "id": "s3TZ6VQmI4zL"
      },
      "execution_count": null,
      "outputs": []
    }
  ]
}